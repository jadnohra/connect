{
 "cells": [
  {
   "cell_type": "code",
   "execution_count": 11,
   "metadata": {},
   "outputs": [],
   "source": [
    "import sys\n",
    "sys.path.append('../..')\n",
    "\n",
    "import ddq.fol.lang as lang"
   ]
  },
  {
   "cell_type": "code",
   "execution_count": 12,
   "metadata": {},
   "outputs": [],
   "source": [
    "# Print tree helper function\n",
    "\n",
    "def print_tree(root, children_func=iter, name_func=str):\n",
    "    \"\"\"Pretty print a tree, in the style of gnu tree\"\"\"\n",
    "    \n",
    "    # Inspired by https://stackoverflow.com/questions/9727673\n",
    "    \n",
    "    # prefix components:\n",
    "    space =  '    '\n",
    "    branch = '│   '\n",
    "    # pointers:\n",
    "    tee =    '├── '\n",
    "    last =   '└── '\n",
    "    \n",
    "    def tree(dir_path, children_func, name_func, prefix: str=''):\n",
    "        \"\"\"A recursive generator, given a tree\n",
    "        will yield a visual tree structure line by line\n",
    "        with each line prefixed by the same characters\n",
    "        \"\"\"    \n",
    "        contents = children_func(dir_path)\n",
    "        # contents each get pointers that are ├── with a final └── :\n",
    "        pointers = [tee] * (len(contents) - 1) + [last]\n",
    "        for pointer, path in zip(pointers, contents):\n",
    "            yield prefix + str(pointer) + name_func(path)\n",
    "            if len(children_func(path)): # extend the prefix and recurse:\n",
    "                extension = branch if pointer == tee else space \n",
    "                # i.e. space because last, └── , above so no more |\n",
    "                yield from tree(path, children_func, name_func, prefix=prefix+extension)\n",
    "\n",
    "    for line in tree(root, children_func, name_func):\n",
    "        print(line)"
   ]
  },
  {
   "cell_type": "code",
   "execution_count": 13,
   "metadata": {},
   "outputs": [
    {
     "name": "stdout",
     "output_type": "stream",
     "text": [
      "└── PrimitiveSymbol (primitive symbol: ?)\n",
      "    ├── ImproperSymbol (improper symbol: ?)\n",
      "    │   ├── LeftParenSymbol (left parenthesis: ()\n",
      "    │   ├── RightParenSymbol (right parenthesis: ))\n",
      "    │   ├── ConjSymbol (conjunction: ^)\n",
      "    │   ├── DisjSymbol (disjunction: v)\n",
      "    │   ├── NegSymbol (negation: ~)\n",
      "    │   ├── ImplSymbol (material implication: =>)\n",
      "    │   ├── EquivSymbol (material equivalence: ==)\n",
      "    │   ├── UniversalSymbol (universal quantifier: ∀)\n",
      "    │   └── ExistentialSymbol (existential quantifier: ∃)\n",
      "    ├── IndividualSymbol (individual: ?)\n",
      "    │   ├── Constant (constant: c)\n",
      "    │   └── Variable (variable: ?)\n",
      "    │       ├── IndividualVariable (individual variable: p)\n",
      "    │       └── PropositionalVariable (propositional variable: X)\n",
      "    ├── Function (function: f)\n",
      "    └── Predicate (predicate: P)\n"
     ]
    }
   ],
   "source": [
    "# Print the language's symbol hierarchy\n",
    "\n",
    "def print_symbol_hierarchy(root_class):\n",
    "    \"\"\"Print the hierarchy and include a canonical example for each class\"\"\"\n",
    "    print_tree(root_class, \n",
    "               lambda cls: cls.__subclasses__(), \n",
    "               lambda cls: cls.__name__ \n",
    "                           + \" (\" + cls.canonical_instance().symbol_type() \n",
    "                           + \": \" + cls.canonical_instance().expression()\n",
    "                           + \")\")\n",
    "\n",
    "print_symbol_hierarchy(lang.Symbol)"
   ]
  },
  {
   "cell_type": "code",
   "execution_count": null,
   "metadata": {},
   "outputs": [],
   "source": []
  },
  {
   "cell_type": "code",
   "execution_count": null,
   "metadata": {},
   "outputs": [],
   "source": []
  }
 ],
 "metadata": {
  "kernelspec": {
   "display_name": "Python 3",
   "language": "python",
   "name": "python3"
  },
  "language_info": {
   "codemirror_mode": {
    "name": "ipython",
    "version": 3
   },
   "file_extension": ".py",
   "mimetype": "text/x-python",
   "name": "python",
   "nbconvert_exporter": "python",
   "pygments_lexer": "ipython3",
   "version": "3.7.5"
  }
 },
 "nbformat": 4,
 "nbformat_minor": 4
}
